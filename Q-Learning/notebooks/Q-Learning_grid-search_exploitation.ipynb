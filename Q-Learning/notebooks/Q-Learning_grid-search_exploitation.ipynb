{
 "cells": [
  {
   "attachments": {},
   "cell_type": "markdown",
   "metadata": {},
   "source": [
    "# Q-Learning Grid Search exploitation & researchs"
   ]
  },
  {
   "attachments": {},
   "cell_type": "markdown",
   "metadata": {},
   "source": [
    "## Imports"
   ]
  },
  {
   "cell_type": "code",
   "execution_count": 24,
   "metadata": {},
   "outputs": [
    {
     "name": "stdout",
     "output_type": "stream",
     "text": [
      "Requirement already satisfied: asttokens==2.2.1 in /home/louis/Epitech/MSC2/T-AIA-902-TLS_6/Q-Learning/lib/python3.11/site-packages (from -r requirements.txt (line 1)) (2.2.1)\n",
      "Requirement already satisfied: backcall==0.2.0 in /home/louis/Epitech/MSC2/T-AIA-902-TLS_6/Q-Learning/lib/python3.11/site-packages (from -r requirements.txt (line 2)) (0.2.0)\n",
      "Requirement already satisfied: cloudpickle==2.2.1 in /home/louis/Epitech/MSC2/T-AIA-902-TLS_6/Q-Learning/lib/python3.11/site-packages (from -r requirements.txt (line 3)) (2.2.1)\n",
      "Requirement already satisfied: cmake==3.26.1 in /home/louis/Epitech/MSC2/T-AIA-902-TLS_6/Q-Learning/lib/python3.11/site-packages (from -r requirements.txt (line 4)) (3.26.1)\n",
      "Requirement already satisfied: comm==0.1.3 in /home/louis/Epitech/MSC2/T-AIA-902-TLS_6/Q-Learning/lib/python3.11/site-packages (from -r requirements.txt (line 5)) (0.1.3)\n",
      "Requirement already satisfied: contourpy==1.0.7 in /home/louis/Epitech/MSC2/T-AIA-902-TLS_6/Q-Learning/lib/python3.11/site-packages (from -r requirements.txt (line 6)) (1.0.7)\n",
      "Requirement already satisfied: cycler==0.11.0 in /home/louis/Epitech/MSC2/T-AIA-902-TLS_6/Q-Learning/lib/python3.11/site-packages (from -r requirements.txt (line 7)) (0.11.0)\n",
      "Requirement already satisfied: debugpy==1.6.6 in /home/louis/Epitech/MSC2/T-AIA-902-TLS_6/Q-Learning/lib/python3.11/site-packages (from -r requirements.txt (line 8)) (1.6.6)\n",
      "Requirement already satisfied: decorator==5.1.1 in /home/louis/Epitech/MSC2/T-AIA-902-TLS_6/Q-Learning/lib/python3.11/site-packages (from -r requirements.txt (line 9)) (5.1.1)\n",
      "Requirement already satisfied: executing==1.2.0 in /home/louis/Epitech/MSC2/T-AIA-902-TLS_6/Q-Learning/lib/python3.11/site-packages (from -r requirements.txt (line 10)) (1.2.0)\n",
      "Requirement already satisfied: Farama-Notifications==0.0.4 in /home/louis/Epitech/MSC2/T-AIA-902-TLS_6/Q-Learning/lib/python3.11/site-packages (from -r requirements.txt (line 11)) (0.0.4)\n",
      "Requirement already satisfied: fonttools==4.39.3 in /home/louis/Epitech/MSC2/T-AIA-902-TLS_6/Q-Learning/lib/python3.11/site-packages (from -r requirements.txt (line 12)) (4.39.3)\n",
      "Requirement already satisfied: gymnasium==0.28.1 in /home/louis/Epitech/MSC2/T-AIA-902-TLS_6/Q-Learning/lib/python3.11/site-packages (from -r requirements.txt (line 13)) (0.28.1)\n",
      "Requirement already satisfied: ipykernel==6.22.0 in /home/louis/Epitech/MSC2/T-AIA-902-TLS_6/Q-Learning/lib/python3.11/site-packages (from -r requirements.txt (line 14)) (6.22.0)\n",
      "Requirement already satisfied: ipython==8.11.0 in /home/louis/Epitech/MSC2/T-AIA-902-TLS_6/Q-Learning/lib/python3.11/site-packages (from -r requirements.txt (line 15)) (8.11.0)\n",
      "Requirement already satisfied: jax-jumpy==1.0.0 in /home/louis/Epitech/MSC2/T-AIA-902-TLS_6/Q-Learning/lib/python3.11/site-packages (from -r requirements.txt (line 16)) (1.0.0)\n",
      "Requirement already satisfied: jedi==0.18.2 in /home/louis/Epitech/MSC2/T-AIA-902-TLS_6/Q-Learning/lib/python3.11/site-packages (from -r requirements.txt (line 17)) (0.18.2)\n",
      "Requirement already satisfied: jupyter_client==8.1.0 in /home/louis/Epitech/MSC2/T-AIA-902-TLS_6/Q-Learning/lib/python3.11/site-packages (from -r requirements.txt (line 18)) (8.1.0)\n",
      "Requirement already satisfied: jupyter_core==5.3.0 in /home/louis/Epitech/MSC2/T-AIA-902-TLS_6/Q-Learning/lib/python3.11/site-packages (from -r requirements.txt (line 19)) (5.3.0)\n",
      "Requirement already satisfied: kiwisolver==1.4.4 in /home/louis/Epitech/MSC2/T-AIA-902-TLS_6/Q-Learning/lib/python3.11/site-packages (from -r requirements.txt (line 20)) (1.4.4)\n",
      "Requirement already satisfied: matplotlib==3.7.1 in /home/louis/Epitech/MSC2/T-AIA-902-TLS_6/Q-Learning/lib/python3.11/site-packages (from -r requirements.txt (line 21)) (3.7.1)\n",
      "Requirement already satisfied: matplotlib-inline==0.1.6 in /home/louis/Epitech/MSC2/T-AIA-902-TLS_6/Q-Learning/lib/python3.11/site-packages (from -r requirements.txt (line 22)) (0.1.6)\n",
      "Requirement already satisfied: nest-asyncio==1.5.6 in /home/louis/Epitech/MSC2/T-AIA-902-TLS_6/Q-Learning/lib/python3.11/site-packages (from -r requirements.txt (line 23)) (1.5.6)\n",
      "Requirement already satisfied: numpy==1.24.2 in /home/louis/Epitech/MSC2/T-AIA-902-TLS_6/Q-Learning/lib/python3.11/site-packages (from -r requirements.txt (line 24)) (1.24.2)\n",
      "Requirement already satisfied: packaging==23.0 in /home/louis/Epitech/MSC2/T-AIA-902-TLS_6/Q-Learning/lib/python3.11/site-packages (from -r requirements.txt (line 25)) (23.0)\n",
      "Requirement already satisfied: pandas==2.0.0 in /home/louis/Epitech/MSC2/T-AIA-902-TLS_6/Q-Learning/lib/python3.11/site-packages (from -r requirements.txt (line 26)) (2.0.0)\n",
      "Requirement already satisfied: parso==0.8.3 in /home/louis/Epitech/MSC2/T-AIA-902-TLS_6/Q-Learning/lib/python3.11/site-packages (from -r requirements.txt (line 27)) (0.8.3)\n",
      "Requirement already satisfied: pexpect==4.8.0 in /home/louis/Epitech/MSC2/T-AIA-902-TLS_6/Q-Learning/lib/python3.11/site-packages (from -r requirements.txt (line 28)) (4.8.0)\n",
      "Requirement already satisfied: pickleshare==0.7.5 in /home/louis/Epitech/MSC2/T-AIA-902-TLS_6/Q-Learning/lib/python3.11/site-packages (from -r requirements.txt (line 29)) (0.7.5)\n",
      "Requirement already satisfied: Pillow==9.5.0 in /home/louis/Epitech/MSC2/T-AIA-902-TLS_6/Q-Learning/lib/python3.11/site-packages (from -r requirements.txt (line 30)) (9.5.0)\n",
      "Requirement already satisfied: platformdirs==3.2.0 in /home/louis/Epitech/MSC2/T-AIA-902-TLS_6/Q-Learning/lib/python3.11/site-packages (from -r requirements.txt (line 31)) (3.2.0)\n",
      "Requirement already satisfied: prompt-toolkit==3.0.38 in /home/louis/Epitech/MSC2/T-AIA-902-TLS_6/Q-Learning/lib/python3.11/site-packages (from -r requirements.txt (line 32)) (3.0.38)\n",
      "Requirement already satisfied: psutil==5.9.4 in /home/louis/Epitech/MSC2/T-AIA-902-TLS_6/Q-Learning/lib/python3.11/site-packages (from -r requirements.txt (line 33)) (5.9.4)\n",
      "Requirement already satisfied: ptyprocess==0.7.0 in /home/louis/Epitech/MSC2/T-AIA-902-TLS_6/Q-Learning/lib/python3.11/site-packages (from -r requirements.txt (line 34)) (0.7.0)\n",
      "Requirement already satisfied: pure-eval==0.2.2 in /home/louis/Epitech/MSC2/T-AIA-902-TLS_6/Q-Learning/lib/python3.11/site-packages (from -r requirements.txt (line 35)) (0.2.2)\n",
      "Requirement already satisfied: pygame==2.1.3 in /home/louis/Epitech/MSC2/T-AIA-902-TLS_6/Q-Learning/lib/python3.11/site-packages (from -r requirements.txt (line 36)) (2.1.3)\n",
      "Requirement already satisfied: Pygments==2.14.0 in /home/louis/Epitech/MSC2/T-AIA-902-TLS_6/Q-Learning/lib/python3.11/site-packages (from -r requirements.txt (line 37)) (2.14.0)\n",
      "Requirement already satisfied: pyparsing==3.0.9 in /home/louis/Epitech/MSC2/T-AIA-902-TLS_6/Q-Learning/lib/python3.11/site-packages (from -r requirements.txt (line 38)) (3.0.9)\n",
      "Requirement already satisfied: python-dateutil==2.8.2 in /home/louis/Epitech/MSC2/T-AIA-902-TLS_6/Q-Learning/lib/python3.11/site-packages (from -r requirements.txt (line 39)) (2.8.2)\n",
      "Requirement already satisfied: pytz==2023.3 in /home/louis/Epitech/MSC2/T-AIA-902-TLS_6/Q-Learning/lib/python3.11/site-packages (from -r requirements.txt (line 40)) (2023.3)\n",
      "Requirement already satisfied: pyzmq==25.0.2 in /home/louis/Epitech/MSC2/T-AIA-902-TLS_6/Q-Learning/lib/python3.11/site-packages (from -r requirements.txt (line 41)) (25.0.2)\n",
      "Requirement already satisfied: scipy==1.10.1 in /home/louis/Epitech/MSC2/T-AIA-902-TLS_6/Q-Learning/lib/python3.11/site-packages (from -r requirements.txt (line 42)) (1.10.1)\n",
      "Requirement already satisfied: six==1.16.0 in /home/louis/Epitech/MSC2/T-AIA-902-TLS_6/Q-Learning/lib/python3.11/site-packages (from -r requirements.txt (line 43)) (1.16.0)\n",
      "Requirement already satisfied: stack-data==0.6.2 in /home/louis/Epitech/MSC2/T-AIA-902-TLS_6/Q-Learning/lib/python3.11/site-packages (from -r requirements.txt (line 44)) (0.6.2)\n",
      "Requirement already satisfied: tornado==6.2 in /home/louis/Epitech/MSC2/T-AIA-902-TLS_6/Q-Learning/lib/python3.11/site-packages (from -r requirements.txt (line 45)) (6.2)\n",
      "Requirement already satisfied: traitlets==5.9.0 in /home/louis/Epitech/MSC2/T-AIA-902-TLS_6/Q-Learning/lib/python3.11/site-packages (from -r requirements.txt (line 46)) (5.9.0)\n",
      "Requirement already satisfied: typing_extensions==4.5.0 in /home/louis/Epitech/MSC2/T-AIA-902-TLS_6/Q-Learning/lib/python3.11/site-packages (from -r requirements.txt (line 47)) (4.5.0)\n",
      "Requirement already satisfied: tzdata==2023.3 in /home/louis/Epitech/MSC2/T-AIA-902-TLS_6/Q-Learning/lib/python3.11/site-packages (from -r requirements.txt (line 48)) (2023.3)\n",
      "Requirement already satisfied: wcwidth==0.2.6 in /home/louis/Epitech/MSC2/T-AIA-902-TLS_6/Q-Learning/lib/python3.11/site-packages (from -r requirements.txt (line 49)) (0.2.6)\n",
      "Note: you may need to restart the kernel to use updated packages.\n"
     ]
    }
   ],
   "source": [
    "%pip install -r requirements.txt"
   ]
  },
  {
   "cell_type": "code",
   "execution_count": 25,
   "metadata": {},
   "outputs": [],
   "source": [
    "import os\n",
    "import pandas as pd\n",
    "import numpy as np"
   ]
  },
  {
   "attachments": {},
   "cell_type": "markdown",
   "metadata": {},
   "source": [
    "## Data Importation"
   ]
  },
  {
   "cell_type": "code",
   "execution_count": 26,
   "metadata": {},
   "outputs": [],
   "source": [
    "PATH = os.getcwd()\n",
    "DATA_PATH = os.path.join(PATH, \"results_grid-search_v2.csv\")"
   ]
  },
  {
   "cell_type": "code",
   "execution_count": 27,
   "metadata": {},
   "outputs": [],
   "source": [
    "df = pd.read_csv(DATA_PATH, header=0, on_bad_lines='skip', sep=';')"
   ]
  },
  {
   "cell_type": "code",
   "execution_count": 28,
   "metadata": {},
   "outputs": [],
   "source": [
    "df = df.applymap(lambda x: float(\"{:.2f}\".format(x)) if type(x) == float else x)"
   ]
  },
  {
   "cell_type": "code",
   "execution_count": 29,
   "metadata": {},
   "outputs": [
    {
     "data": {
      "text/html": [
       "<div>\n",
       "<style scoped>\n",
       "    .dataframe tbody tr th:only-of-type {\n",
       "        vertical-align: middle;\n",
       "    }\n",
       "\n",
       "    .dataframe tbody tr th {\n",
       "        vertical-align: top;\n",
       "    }\n",
       "\n",
       "    .dataframe thead th {\n",
       "        text-align: right;\n",
       "    }\n",
       "</style>\n",
       "<table border=\"1\" class=\"dataframe\">\n",
       "  <thead>\n",
       "    <tr style=\"text-align: right;\">\n",
       "      <th></th>\n",
       "      <th>Epsilon</th>\n",
       "      <th>Alpha</th>\n",
       "      <th>Gamma</th>\n",
       "      <th>Epochs_learn</th>\n",
       "      <th>Penalties_learn</th>\n",
       "      <th>Epochs_eval</th>\n",
       "      <th>Penalties_eval</th>\n",
       "      <th>Worked</th>\n",
       "    </tr>\n",
       "  </thead>\n",
       "  <tbody>\n",
       "    <tr>\n",
       "      <th>0</th>\n",
       "      <td>0.15</td>\n",
       "      <td>0.05</td>\n",
       "      <td>0.35</td>\n",
       "      <td>1953066</td>\n",
       "      <td>89536</td>\n",
       "      <td>1301</td>\n",
       "      <td>0</td>\n",
       "      <td>True</td>\n",
       "    </tr>\n",
       "    <tr>\n",
       "      <th>1</th>\n",
       "      <td>0.15</td>\n",
       "      <td>0.05</td>\n",
       "      <td>0.36</td>\n",
       "      <td>1948198</td>\n",
       "      <td>88953</td>\n",
       "      <td>1310</td>\n",
       "      <td>0</td>\n",
       "      <td>True</td>\n",
       "    </tr>\n",
       "    <tr>\n",
       "      <th>2</th>\n",
       "      <td>0.15</td>\n",
       "      <td>0.05</td>\n",
       "      <td>0.37</td>\n",
       "      <td>1939543</td>\n",
       "      <td>89269</td>\n",
       "      <td>1278</td>\n",
       "      <td>0</td>\n",
       "      <td>True</td>\n",
       "    </tr>\n",
       "    <tr>\n",
       "      <th>3</th>\n",
       "      <td>0.15</td>\n",
       "      <td>0.05</td>\n",
       "      <td>0.38</td>\n",
       "      <td>1931277</td>\n",
       "      <td>88440</td>\n",
       "      <td>1289</td>\n",
       "      <td>0</td>\n",
       "      <td>True</td>\n",
       "    </tr>\n",
       "    <tr>\n",
       "      <th>4</th>\n",
       "      <td>0.15</td>\n",
       "      <td>0.05</td>\n",
       "      <td>0.39</td>\n",
       "      <td>1929364</td>\n",
       "      <td>88603</td>\n",
       "      <td>1328</td>\n",
       "      <td>0</td>\n",
       "      <td>True</td>\n",
       "    </tr>\n",
       "    <tr>\n",
       "      <th>...</th>\n",
       "      <td>...</td>\n",
       "      <td>...</td>\n",
       "      <td>...</td>\n",
       "      <td>...</td>\n",
       "      <td>...</td>\n",
       "      <td>...</td>\n",
       "      <td>...</td>\n",
       "      <td>...</td>\n",
       "    </tr>\n",
       "    <tr>\n",
       "      <th>1326</th>\n",
       "      <td>0.25</td>\n",
       "      <td>0.15</td>\n",
       "      <td>0.41</td>\n",
       "      <td>1922714</td>\n",
       "      <td>144413</td>\n",
       "      <td>1275</td>\n",
       "      <td>0</td>\n",
       "      <td>True</td>\n",
       "    </tr>\n",
       "    <tr>\n",
       "      <th>1327</th>\n",
       "      <td>0.25</td>\n",
       "      <td>0.15</td>\n",
       "      <td>0.42</td>\n",
       "      <td>1918438</td>\n",
       "      <td>144459</td>\n",
       "      <td>1264</td>\n",
       "      <td>0</td>\n",
       "      <td>True</td>\n",
       "    </tr>\n",
       "    <tr>\n",
       "      <th>1328</th>\n",
       "      <td>0.25</td>\n",
       "      <td>0.15</td>\n",
       "      <td>0.43</td>\n",
       "      <td>1916916</td>\n",
       "      <td>143594</td>\n",
       "      <td>1280</td>\n",
       "      <td>0</td>\n",
       "      <td>True</td>\n",
       "    </tr>\n",
       "    <tr>\n",
       "      <th>1329</th>\n",
       "      <td>0.25</td>\n",
       "      <td>0.15</td>\n",
       "      <td>0.44</td>\n",
       "      <td>1913861</td>\n",
       "      <td>143771</td>\n",
       "      <td>1325</td>\n",
       "      <td>0</td>\n",
       "      <td>True</td>\n",
       "    </tr>\n",
       "    <tr>\n",
       "      <th>1330</th>\n",
       "      <td>0.25</td>\n",
       "      <td>0.15</td>\n",
       "      <td>0.45</td>\n",
       "      <td>1913162</td>\n",
       "      <td>143338</td>\n",
       "      <td>1297</td>\n",
       "      <td>0</td>\n",
       "      <td>True</td>\n",
       "    </tr>\n",
       "  </tbody>\n",
       "</table>\n",
       "<p>1331 rows × 8 columns</p>\n",
       "</div>"
      ],
      "text/plain": [
       "      Epsilon  Alpha  Gamma  Epochs_learn  Penalties_learn  Epochs_eval   \n",
       "0        0.15   0.05   0.35       1953066            89536         1301  \\\n",
       "1        0.15   0.05   0.36       1948198            88953         1310   \n",
       "2        0.15   0.05   0.37       1939543            89269         1278   \n",
       "3        0.15   0.05   0.38       1931277            88440         1289   \n",
       "4        0.15   0.05   0.39       1929364            88603         1328   \n",
       "...       ...    ...    ...           ...              ...          ...   \n",
       "1326     0.25   0.15   0.41       1922714           144413         1275   \n",
       "1327     0.25   0.15   0.42       1918438           144459         1264   \n",
       "1328     0.25   0.15   0.43       1916916           143594         1280   \n",
       "1329     0.25   0.15   0.44       1913861           143771         1325   \n",
       "1330     0.25   0.15   0.45       1913162           143338         1297   \n",
       "\n",
       "      Penalties_eval  Worked  \n",
       "0                  0    True  \n",
       "1                  0    True  \n",
       "2                  0    True  \n",
       "3                  0    True  \n",
       "4                  0    True  \n",
       "...              ...     ...  \n",
       "1326               0    True  \n",
       "1327               0    True  \n",
       "1328               0    True  \n",
       "1329               0    True  \n",
       "1330               0    True  \n",
       "\n",
       "[1331 rows x 8 columns]"
      ]
     },
     "execution_count": 29,
     "metadata": {},
     "output_type": "execute_result"
    }
   ],
   "source": [
    "df"
   ]
  },
  {
   "cell_type": "code",
   "execution_count": 30,
   "metadata": {},
   "outputs": [
    {
     "data": {
      "text/plain": [
       "Epsilon\n",
       "0.15    121\n",
       "0.16    121\n",
       "0.17    121\n",
       "0.18    121\n",
       "0.19    121\n",
       "0.20    121\n",
       "0.21    121\n",
       "0.22    121\n",
       "0.23    121\n",
       "0.24    121\n",
       "0.25    121\n",
       "dtype: int64"
      ]
     },
     "execution_count": 30,
     "metadata": {},
     "output_type": "execute_result"
    }
   ],
   "source": [
    "df.groupby([\"Epsilon\"]).size()"
   ]
  },
  {
   "attachments": {},
   "cell_type": "markdown",
   "metadata": {},
   "source": [
    "## Data Exploration"
   ]
  },
  {
   "cell_type": "code",
   "execution_count": 31,
   "metadata": {},
   "outputs": [
    {
     "data": {
      "text/plain": [
       "(1331, 8)"
      ]
     },
     "execution_count": 31,
     "metadata": {},
     "output_type": "execute_result"
    }
   ],
   "source": [
    "df_worked = df[df[\"Worked\"] == True]\n",
    "\n",
    "df_worked.shape"
   ]
  },
  {
   "cell_type": "code",
   "execution_count": 32,
   "metadata": {},
   "outputs": [
    {
     "data": {
      "text/plain": [
       "Penalties_eval\n",
       "0    1331\n",
       "Name: count, dtype: int64"
      ]
     },
     "execution_count": 32,
     "metadata": {},
     "output_type": "execute_result"
    }
   ],
   "source": [
    "df_worked[\"Penalties_eval\"].value_counts()"
   ]
  },
  {
   "cell_type": "code",
   "execution_count": 33,
   "metadata": {},
   "outputs": [
    {
     "data": {
      "text/html": [
       "<div>\n",
       "<style scoped>\n",
       "    .dataframe tbody tr th:only-of-type {\n",
       "        vertical-align: middle;\n",
       "    }\n",
       "\n",
       "    .dataframe tbody tr th {\n",
       "        vertical-align: top;\n",
       "    }\n",
       "\n",
       "    .dataframe thead th {\n",
       "        text-align: right;\n",
       "    }\n",
       "</style>\n",
       "<table border=\"1\" class=\"dataframe\">\n",
       "  <thead>\n",
       "    <tr style=\"text-align: right;\">\n",
       "      <th></th>\n",
       "      <th>Epsilon</th>\n",
       "      <th>Alpha</th>\n",
       "      <th>Gamma</th>\n",
       "      <th>Epochs_learn</th>\n",
       "      <th>Penalties_learn</th>\n",
       "      <th>Epochs_eval</th>\n",
       "      <th>Penalties_eval</th>\n",
       "      <th>Worked</th>\n",
       "    </tr>\n",
       "  </thead>\n",
       "  <tbody>\n",
       "    <tr>\n",
       "      <th>1011</th>\n",
       "      <td>0.23</td>\n",
       "      <td>0.08</td>\n",
       "      <td>0.45</td>\n",
       "      <td>1956714</td>\n",
       "      <td>135830</td>\n",
       "      <td>1219</td>\n",
       "      <td>0</td>\n",
       "      <td>True</td>\n",
       "    </tr>\n",
       "  </tbody>\n",
       "</table>\n",
       "</div>"
      ],
      "text/plain": [
       "      Epsilon  Alpha  Gamma  Epochs_learn  Penalties_learn  Epochs_eval   \n",
       "1011     0.23   0.08   0.45       1956714           135830         1219  \\\n",
       "\n",
       "      Penalties_eval  Worked  \n",
       "1011               0    True  "
      ]
     },
     "execution_count": 33,
     "metadata": {},
     "output_type": "execute_result"
    }
   ],
   "source": [
    "df_worked_EE_min = df_worked[df_worked[\"Epochs_eval\"] == df_worked[\"Epochs_eval\"].min()]\n",
    "\n",
    "df_worked_EE_min"
   ]
  },
  {
   "cell_type": "code",
   "execution_count": 34,
   "metadata": {},
   "outputs": [
    {
     "data": {
      "text/html": [
       "<div>\n",
       "<style scoped>\n",
       "    .dataframe tbody tr th:only-of-type {\n",
       "        vertical-align: middle;\n",
       "    }\n",
       "\n",
       "    .dataframe tbody tr th {\n",
       "        vertical-align: top;\n",
       "    }\n",
       "\n",
       "    .dataframe thead th {\n",
       "        text-align: right;\n",
       "    }\n",
       "</style>\n",
       "<table border=\"1\" class=\"dataframe\">\n",
       "  <thead>\n",
       "    <tr style=\"text-align: right;\">\n",
       "      <th></th>\n",
       "      <th>Epsilon</th>\n",
       "      <th>Alpha</th>\n",
       "      <th>Gamma</th>\n",
       "      <th>Epochs_learn</th>\n",
       "      <th>Penalties_learn</th>\n",
       "      <th>Epochs_eval</th>\n",
       "      <th>Penalties_eval</th>\n",
       "      <th>Worked</th>\n",
       "    </tr>\n",
       "  </thead>\n",
       "  <tbody>\n",
       "    <tr>\n",
       "      <th>1011</th>\n",
       "      <td>0.23</td>\n",
       "      <td>0.08</td>\n",
       "      <td>0.45</td>\n",
       "      <td>1956714</td>\n",
       "      <td>135830</td>\n",
       "      <td>1219</td>\n",
       "      <td>0</td>\n",
       "      <td>True</td>\n",
       "    </tr>\n",
       "  </tbody>\n",
       "</table>\n",
       "</div>"
      ],
      "text/plain": [
       "      Epsilon  Alpha  Gamma  Epochs_learn  Penalties_learn  Epochs_eval   \n",
       "1011     0.23   0.08   0.45       1956714           135830         1219  \\\n",
       "\n",
       "      Penalties_eval  Worked  \n",
       "1011               0    True  "
      ]
     },
     "execution_count": 34,
     "metadata": {},
     "output_type": "execute_result"
    }
   ],
   "source": [
    "df_worked_EE_min[df_worked_EE_min[\"Epochs_learn\"] == df_worked_EE_min[\"Epochs_learn\"].min()]"
   ]
  },
  {
   "attachments": {},
   "cell_type": "markdown",
   "metadata": {},
   "source": [
    "## Conclusion"
   ]
  },
  {
   "attachments": {},
   "cell_type": "markdown",
   "metadata": {},
   "source": [
    "With this little exploration, we can see the best hyperparameters are:\n",
    "\n",
    "- **Epsilon**: 0.23\n",
    "- **Alpha**: 0.08\n",
    "- **Gamma**: 0.45"
   ]
  }
 ],
 "metadata": {
  "kernelspec": {
   "display_name": "Q-Learning",
   "language": "python",
   "name": "python3"
  },
  "language_info": {
   "codemirror_mode": {
    "name": "ipython",
    "version": 3
   },
   "file_extension": ".py",
   "mimetype": "text/x-python",
   "name": "python",
   "nbconvert_exporter": "python",
   "pygments_lexer": "ipython3",
   "version": "3.11.2"
  },
  "orig_nbformat": 4
 },
 "nbformat": 4,
 "nbformat_minor": 2
}
