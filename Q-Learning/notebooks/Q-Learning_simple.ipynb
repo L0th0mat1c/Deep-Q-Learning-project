{
 "cells": [
  {
   "attachments": {},
   "cell_type": "markdown",
   "metadata": {},
   "source": [
    "# Simple algorythm with Q-Learning"
   ]
  },
  {
   "attachments": {},
   "cell_type": "markdown",
   "metadata": {},
   "source": [
    "## Import"
   ]
  },
  {
   "cell_type": "code",
   "execution_count": 1,
   "metadata": {},
   "outputs": [
    {
     "name": "stdout",
     "output_type": "stream",
     "text": [
      "Requirement already satisfied: asttokens==2.2.1 in c:\\users\\loicb\\appdata\\local\\programs\\python\\python311\\lib\\site-packages (from -r requirements.txt (line 1)) (2.2.1)\n",
      "Requirement already satisfied: backcall==0.2.0 in c:\\users\\loicb\\appdata\\local\\programs\\python\\python311\\lib\\site-packages (from -r requirements.txt (line 2)) (0.2.0)\n",
      "Requirement already satisfied: cloudpickle==2.2.1 in c:\\users\\loicb\\appdata\\local\\programs\\python\\python311\\lib\\site-packages (from -r requirements.txt (line 3)) (2.2.1)\n",
      "Requirement already satisfied: cmake==3.26.1 in c:\\users\\loicb\\appdata\\local\\programs\\python\\python311\\lib\\site-packages (from -r requirements.txt (line 4)) (3.26.1)\n",
      "Requirement already satisfied: comm==0.1.3 in c:\\users\\loicb\\appdata\\local\\programs\\python\\python311\\lib\\site-packages (from -r requirements.txt (line 5)) (0.1.3)\n",
      "Requirement already satisfied: contourpy==1.0.7 in c:\\users\\loicb\\appdata\\local\\programs\\python\\python311\\lib\\site-packages (from -r requirements.txt (line 6)) (1.0.7)\n",
      "Requirement already satisfied: cycler==0.11.0 in c:\\users\\loicb\\appdata\\local\\programs\\python\\python311\\lib\\site-packages (from -r requirements.txt (line 7)) (0.11.0)\n",
      "Requirement already satisfied: debugpy==1.6.6 in c:\\users\\loicb\\appdata\\local\\programs\\python\\python311\\lib\\site-packages (from -r requirements.txt (line 8)) (1.6.6)\n",
      "Requirement already satisfied: decorator==5.1.1 in c:\\users\\loicb\\appdata\\local\\programs\\python\\python311\\lib\\site-packages (from -r requirements.txt (line 9)) (5.1.1)\n",
      "Requirement already satisfied: executing==1.2.0 in c:\\users\\loicb\\appdata\\local\\programs\\python\\python311\\lib\\site-packages (from -r requirements.txt (line 10)) (1.2.0)\n",
      "Requirement already satisfied: Farama-Notifications==0.0.4 in c:\\users\\loicb\\appdata\\local\\programs\\python\\python311\\lib\\site-packages (from -r requirements.txt (line 11)) (0.0.4)\n",
      "Requirement already satisfied: fonttools==4.39.3 in c:\\users\\loicb\\appdata\\local\\programs\\python\\python311\\lib\\site-packages (from -r requirements.txt (line 12)) (4.39.3)\n",
      "Requirement already satisfied: gymnasium==0.28.1 in c:\\users\\loicb\\appdata\\local\\programs\\python\\python311\\lib\\site-packages (from -r requirements.txt (line 13)) (0.28.1)\n",
      "Requirement already satisfied: ipykernel==6.22.0 in c:\\users\\loicb\\appdata\\local\\programs\\python\\python311\\lib\\site-packages (from -r requirements.txt (line 14)) (6.22.0)\n",
      "Requirement already satisfied: ipython==8.11.0 in c:\\users\\loicb\\appdata\\local\\programs\\python\\python311\\lib\\site-packages (from -r requirements.txt (line 15)) (8.11.0)\n",
      "Requirement already satisfied: jax-jumpy==1.0.0 in c:\\users\\loicb\\appdata\\local\\programs\\python\\python311\\lib\\site-packages (from -r requirements.txt (line 16)) (1.0.0)\n",
      "Requirement already satisfied: jedi==0.18.2 in c:\\users\\loicb\\appdata\\local\\programs\\python\\python311\\lib\\site-packages (from -r requirements.txt (line 17)) (0.18.2)\n",
      "Requirement already satisfied: jupyter_client==8.1.0 in c:\\users\\loicb\\appdata\\local\\programs\\python\\python311\\lib\\site-packages (from -r requirements.txt (line 18)) (8.1.0)\n",
      "Requirement already satisfied: jupyter_core==5.3.0 in c:\\users\\loicb\\appdata\\local\\programs\\python\\python311\\lib\\site-packages (from -r requirements.txt (line 19)) (5.3.0)\n",
      "Requirement already satisfied: kiwisolver==1.4.4 in c:\\users\\loicb\\appdata\\local\\programs\\python\\python311\\lib\\site-packages (from -r requirements.txt (line 20)) (1.4.4)\n",
      "Requirement already satisfied: matplotlib==3.7.1 in c:\\users\\loicb\\appdata\\local\\programs\\python\\python311\\lib\\site-packages (from -r requirements.txt (line 21)) (3.7.1)\n",
      "Requirement already satisfied: matplotlib-inline==0.1.6 in c:\\users\\loicb\\appdata\\local\\programs\\python\\python311\\lib\\site-packages (from -r requirements.txt (line 22)) (0.1.6)\n",
      "Requirement already satisfied: nest-asyncio==1.5.6 in c:\\users\\loicb\\appdata\\local\\programs\\python\\python311\\lib\\site-packages (from -r requirements.txt (line 23)) (1.5.6)\n",
      "Requirement already satisfied: numpy==1.24.2 in c:\\users\\loicb\\appdata\\local\\programs\\python\\python311\\lib\\site-packages (from -r requirements.txt (line 24)) (1.24.2)\n",
      "Requirement already satisfied: packaging==23.0 in c:\\users\\loicb\\appdata\\local\\programs\\python\\python311\\lib\\site-packages (from -r requirements.txt (line 25)) (23.0)\n",
      "Requirement already satisfied: pandas==2.0.0 in c:\\users\\loicb\\appdata\\local\\programs\\python\\python311\\lib\\site-packages (from -r requirements.txt (line 26)) (2.0.0)\n",
      "Requirement already satisfied: parso==0.8.3 in c:\\users\\loicb\\appdata\\local\\programs\\python\\python311\\lib\\site-packages (from -r requirements.txt (line 27)) (0.8.3)\n",
      "Requirement already satisfied: pexpect==4.8.0 in c:\\users\\loicb\\appdata\\local\\programs\\python\\python311\\lib\\site-packages (from -r requirements.txt (line 28)) (4.8.0)\n",
      "Requirement already satisfied: pickleshare==0.7.5 in c:\\users\\loicb\\appdata\\local\\programs\\python\\python311\\lib\\site-packages (from -r requirements.txt (line 29)) (0.7.5)\n",
      "Requirement already satisfied: Pillow==9.5.0 in c:\\users\\loicb\\appdata\\local\\programs\\python\\python311\\lib\\site-packages (from -r requirements.txt (line 30)) (9.5.0)\n",
      "Requirement already satisfied: platformdirs==3.2.0 in c:\\users\\loicb\\appdata\\local\\programs\\python\\python311\\lib\\site-packages (from -r requirements.txt (line 31)) (3.2.0)\n",
      "Requirement already satisfied: prompt-toolkit==3.0.38 in c:\\users\\loicb\\appdata\\local\\programs\\python\\python311\\lib\\site-packages (from -r requirements.txt (line 32)) (3.0.38)\n",
      "Requirement already satisfied: psutil==5.9.4 in c:\\users\\loicb\\appdata\\local\\programs\\python\\python311\\lib\\site-packages (from -r requirements.txt (line 33)) (5.9.4)\n",
      "Requirement already satisfied: ptyprocess==0.7.0 in c:\\users\\loicb\\appdata\\local\\programs\\python\\python311\\lib\\site-packages (from -r requirements.txt (line 34)) (0.7.0)\n",
      "Requirement already satisfied: pure-eval==0.2.2 in c:\\users\\loicb\\appdata\\local\\programs\\python\\python311\\lib\\site-packages (from -r requirements.txt (line 35)) (0.2.2)\n",
      "Requirement already satisfied: pygame==2.1.3 in c:\\users\\loicb\\appdata\\local\\programs\\python\\python311\\lib\\site-packages (from -r requirements.txt (line 36)) (2.1.3)\n",
      "Requirement already satisfied: Pygments==2.14.0 in c:\\users\\loicb\\appdata\\local\\programs\\python\\python311\\lib\\site-packages (from -r requirements.txt (line 37)) (2.14.0)\n",
      "Requirement already satisfied: pyparsing==3.0.9 in c:\\users\\loicb\\appdata\\local\\programs\\python\\python311\\lib\\site-packages (from -r requirements.txt (line 38)) (3.0.9)\n",
      "Requirement already satisfied: python-dateutil==2.8.2 in c:\\users\\loicb\\appdata\\local\\programs\\python\\python311\\lib\\site-packages (from -r requirements.txt (line 39)) (2.8.2)\n",
      "Requirement already satisfied: pytz==2023.3 in c:\\users\\loicb\\appdata\\local\\programs\\python\\python311\\lib\\site-packages (from -r requirements.txt (line 40)) (2023.3)\n",
      "Requirement already satisfied: pyzmq==25.0.2 in c:\\users\\loicb\\appdata\\local\\programs\\python\\python311\\lib\\site-packages (from -r requirements.txt (line 41)) (25.0.2)\n",
      "Requirement already satisfied: scipy==1.10.1 in c:\\users\\loicb\\appdata\\local\\programs\\python\\python311\\lib\\site-packages (from -r requirements.txt (line 42)) (1.10.1)\n",
      "Requirement already satisfied: six==1.16.0 in c:\\users\\loicb\\appdata\\local\\programs\\python\\python311\\lib\\site-packages (from -r requirements.txt (line 43)) (1.16.0)\n",
      "Requirement already satisfied: stack-data==0.6.2 in c:\\users\\loicb\\appdata\\local\\programs\\python\\python311\\lib\\site-packages (from -r requirements.txt (line 44)) (0.6.2)\n",
      "Requirement already satisfied: tornado==6.2 in c:\\users\\loicb\\appdata\\local\\programs\\python\\python311\\lib\\site-packages (from -r requirements.txt (line 45)) (6.2)\n",
      "Requirement already satisfied: traitlets==5.9.0 in c:\\users\\loicb\\appdata\\local\\programs\\python\\python311\\lib\\site-packages (from -r requirements.txt (line 46)) (5.9.0)\n",
      "Requirement already satisfied: typing_extensions==4.5.0 in c:\\users\\loicb\\appdata\\local\\programs\\python\\python311\\lib\\site-packages (from -r requirements.txt (line 47)) (4.5.0)\n",
      "Requirement already satisfied: tzdata==2023.3 in c:\\users\\loicb\\appdata\\local\\programs\\python\\python311\\lib\\site-packages (from -r requirements.txt (line 48)) (2023.3)\n",
      "Requirement already satisfied: wcwidth==0.2.6 in c:\\users\\loicb\\appdata\\local\\programs\\python\\python311\\lib\\site-packages (from -r requirements.txt (line 49)) (0.2.6)\n",
      "Requirement already satisfied: colorama in c:\\users\\loicb\\appdata\\local\\programs\\python\\python311\\lib\\site-packages (from ipython==8.11.0->-r requirements.txt (line 15)) (0.4.6)\n",
      "Requirement already satisfied: pywin32>=300 in c:\\users\\loicb\\appdata\\local\\programs\\python\\python311\\lib\\site-packages (from jupyter_core==5.3.0->-r requirements.txt (line 19)) (306)\n",
      "Note: you may need to restart the kernel to use updated packages.\n"
     ]
    },
    {
     "name": "stderr",
     "output_type": "stream",
     "text": [
      "\n",
      "[notice] A new release of pip available: 22.3.1 -> 23.1.2\n",
      "[notice] To update, run: python.exe -m pip install --upgrade pip\n"
     ]
    }
   ],
   "source": [
    "%pip install -r requirements.txt"
   ]
  },
  {
   "cell_type": "code",
   "execution_count": 2,
   "metadata": {},
   "outputs": [],
   "source": [
    "import gymnasium as gym\n",
    "\n",
    "import numpy as np\n",
    "from random import randint, uniform\n",
    "from IPython import display\n",
    "from IPython.display import clear_output\n",
    "\n",
    "import matplotlib\n",
    "import matplotlib.pyplot as plt\n",
    "\n",
    "from time import sleep"
   ]
  },
  {
   "attachments": {},
   "cell_type": "markdown",
   "metadata": {},
   "source": [
    "## Charging environment"
   ]
  },
  {
   "cell_type": "code",
   "execution_count": 3,
   "metadata": {},
   "outputs": [
    {
     "name": "stdout",
     "output_type": "stream",
     "text": [
      "+---------+\n",
      "|R: | : :\u001b[35mG\u001b[0m|\n",
      "| : | :\u001b[43m \u001b[0m: |\n",
      "| : : : : |\n",
      "| | : | : |\n",
      "|Y| : |\u001b[34;1mB\u001b[0m: |\n",
      "+---------+\n",
      "\n",
      "\n"
     ]
    }
   ],
   "source": [
    "env = gym.make(\"Taxi-v3\", render_mode=\"ansi\")\n",
    "# We can test render_mode to 'human' in the future\n",
    "\n",
    "env.reset()\n",
    "print(env.render())"
   ]
  },
  {
   "attachments": {},
   "cell_type": "markdown",
   "metadata": {},
   "source": [
    "The filled square represents the taxi, which is yellow without a passenger and green with a passenger.  \n",
    "The pipe (\"|\") represents a wall which the taxi cannot cross.  \n",
    "R, G, Y, B are the possible pickup and destination locations. The blue letter represents the current passenger pick-up location, and the purple letter is the current destination.  "
   ]
  },
  {
   "cell_type": "code",
   "execution_count": 4,
   "metadata": {},
   "outputs": [
    {
     "name": "stdout",
     "output_type": "stream",
     "text": [
      "Action Space Discrete(6)\n",
      "State Space Discrete(500)\n"
     ]
    }
   ],
   "source": [
    "print(f\"Action Space {env.action_space}\")\n",
    "print(f\"State Space {env.observation_space}\")"
   ]
  },
  {
   "attachments": {},
   "cell_type": "markdown",
   "metadata": {},
   "source": [
    "We got 6 actions inside the environment:\n",
    "- **0**: south\n",
    "- **1**: north\n",
    "- **2**: east\n",
    "- **3**: west\n",
    "- **4**: pickup\n",
    "- **5**: dropoff\n",
    "\n",
    "And 500 possible states:\n",
    "- **5x5** grid\n",
    "- **4** destinations\n",
    "- **5** passenger locations"
   ]
  },
  {
   "cell_type": "code",
   "execution_count": 13,
   "metadata": {},
   "outputs": [
    {
     "name": "stdout",
     "output_type": "stream",
     "text": [
      "Current state: 475\n"
     ]
    }
   ],
   "source": [
    "print(f\"Current state: {env.s}\")"
   ]
  },
  {
   "cell_type": "code",
   "execution_count": 14,
   "metadata": {},
   "outputs": [
    {
     "data": {
      "text/plain": [
       "{0: [(1.0, 475, -1, False)],\n",
       " 1: [(1.0, 375, -1, False)],\n",
       " 2: [(1.0, 495, -1, False)],\n",
       " 3: [(1.0, 475, -1, False)],\n",
       " 4: [(1.0, 479, -1, False)],\n",
       " 5: [(1.0, 475, -10, False)]}"
      ]
     },
     "execution_count": 14,
     "metadata": {},
     "output_type": "execute_result"
    }
   ],
   "source": [
    "env.P[env.s]"
   ]
  },
  {
   "attachments": {},
   "cell_type": "markdown",
   "metadata": {},
   "source": [
    "For each action in this state, we have:\n",
    "- **probability**: always at 1.0 in this env\n",
    "- **nextstate**: the next state if the agent takes this action\n",
    "- **reward**: the reward (positive or negative) gained after performing this action\n",
    "- **done**: boolean at True when a passenger is correctly dropof"
   ]
  },
  {
   "attachments": {},
   "cell_type": "markdown",
   "metadata": {},
   "source": [
    "## Q-Learning"
   ]
  },
  {
   "attachments": {},
   "cell_type": "markdown",
   "metadata": {},
   "source": [
    "In order to implementing the Q-Learning algorithm, we will be through those steps:\n",
    "\n",
    "- Initialize the Q-table by all zeros.\n",
    "- Start exploring actions: For each state, select any one among all possible actions for the current state (S).\n",
    "- Travel to the next state (S') as a result of that action (a).\n",
    "- For all possible actions from the state (S') select the one with the highest Q-value.\n",
    "- Update Q-table values using the equation.\n",
    "- Set the next state as the current state.\n",
    "- If goal state is reached, then end and repeat the process."
   ]
  },
  {
   "cell_type": "code",
   "execution_count": 15,
   "metadata": {},
   "outputs": [
    {
     "data": {
      "text/plain": [
       "array([[0., 0., 0., 0., 0., 0.],\n",
       "       [0., 0., 0., 0., 0., 0.],\n",
       "       [0., 0., 0., 0., 0., 0.],\n",
       "       ...,\n",
       "       [0., 0., 0., 0., 0., 0.],\n",
       "       [0., 0., 0., 0., 0., 0.],\n",
       "       [0., 0., 0., 0., 0., 0.]])"
      ]
     },
     "execution_count": 15,
     "metadata": {},
     "output_type": "execute_result"
    }
   ],
   "source": [
    "# Initialize the Q-Table\n",
    "q_table = np.zeros([env.observation_space.n, env.action_space.n])\n",
    "\n",
    "q_table"
   ]
  },
  {
   "cell_type": "code",
   "execution_count": 16,
   "metadata": {},
   "outputs": [],
   "source": [
    "# Hyperparameters\n",
    "ALPHA = 0.1\n",
    "GAMMA = 0.6\n",
    "EPSILON = 0.1"
   ]
  },
  {
   "attachments": {},
   "cell_type": "markdown",
   "metadata": {},
   "source": [
    "For now, hyperparameters are initialized with arbitrary values, but will be tested in another notebook.  \n",
    "Since, they are not gonna change, we noted them as constantes.  "
   ]
  },
  {
   "cell_type": "code",
   "execution_count": 17,
   "metadata": {},
   "outputs": [
    {
     "name": "stdout",
     "output_type": "stream",
     "text": [
      "Episode: 5120, reward: -5, wrong dropouts: 1\n",
      "\n"
     ]
    },
    {
     "ename": "KeyboardInterrupt",
     "evalue": "",
     "output_type": "error",
     "traceback": [
      "\u001b[1;31m---------------------------------------------------------------------------\u001b[0m",
      "\u001b[1;31mKeyboardInterrupt\u001b[0m                         Traceback (most recent call last)",
      "Cell \u001b[1;32mIn[17], line 66\u001b[0m\n\u001b[0;32m     63\u001b[0m         axs2\u001b[39m.\u001b[39mset_ylabel(\u001b[39m'\u001b[39m\u001b[39mwrong dropouts\u001b[39m\u001b[39m'\u001b[39m)\n\u001b[0;32m     64\u001b[0m         axs2\u001b[39m.\u001b[39mgrid(\u001b[39mTrue\u001b[39;00m)\n\u001b[1;32m---> 66\u001b[0m         plt\u001b[39m.\u001b[39;49mshow()\n\u001b[0;32m     67\u001b[0m         sleep(\u001b[39m0.1\u001b[39m)\n\u001b[0;32m     69\u001b[0m \u001b[39mprint\u001b[39m(\u001b[39m\"\u001b[39m\u001b[39mFinished\u001b[39m\u001b[39m\"\u001b[39m)\n",
      "File \u001b[1;32mc:\\Users\\loicb\\AppData\\Local\\Programs\\Python\\Python311\\Lib\\site-packages\\matplotlib\\pyplot.py:446\u001b[0m, in \u001b[0;36mshow\u001b[1;34m(*args, **kwargs)\u001b[0m\n\u001b[0;32m    402\u001b[0m \u001b[39m\u001b[39m\u001b[39m\"\"\"\u001b[39;00m\n\u001b[0;32m    403\u001b[0m \u001b[39mDisplay all open figures.\u001b[39;00m\n\u001b[0;32m    404\u001b[0m \n\u001b[1;32m   (...)\u001b[0m\n\u001b[0;32m    443\u001b[0m \u001b[39mexplicitly there.\u001b[39;00m\n\u001b[0;32m    444\u001b[0m \u001b[39m\"\"\"\u001b[39;00m\n\u001b[0;32m    445\u001b[0m _warn_if_gui_out_of_main_thread()\n\u001b[1;32m--> 446\u001b[0m \u001b[39mreturn\u001b[39;00m _get_backend_mod()\u001b[39m.\u001b[39;49mshow(\u001b[39m*\u001b[39;49margs, \u001b[39m*\u001b[39;49m\u001b[39m*\u001b[39;49mkwargs)\n",
      "File \u001b[1;32mc:\\Users\\loicb\\AppData\\Local\\Programs\\Python\\Python311\\Lib\\site-packages\\matplotlib_inline\\backend_inline.py:90\u001b[0m, in \u001b[0;36mshow\u001b[1;34m(close, block)\u001b[0m\n\u001b[0;32m     88\u001b[0m \u001b[39mtry\u001b[39;00m:\n\u001b[0;32m     89\u001b[0m     \u001b[39mfor\u001b[39;00m figure_manager \u001b[39min\u001b[39;00m Gcf\u001b[39m.\u001b[39mget_all_fig_managers():\n\u001b[1;32m---> 90\u001b[0m         display(\n\u001b[0;32m     91\u001b[0m             figure_manager\u001b[39m.\u001b[39;49mcanvas\u001b[39m.\u001b[39;49mfigure,\n\u001b[0;32m     92\u001b[0m             metadata\u001b[39m=\u001b[39;49m_fetch_figure_metadata(figure_manager\u001b[39m.\u001b[39;49mcanvas\u001b[39m.\u001b[39;49mfigure)\n\u001b[0;32m     93\u001b[0m         )\n\u001b[0;32m     94\u001b[0m \u001b[39mfinally\u001b[39;00m:\n\u001b[0;32m     95\u001b[0m     show\u001b[39m.\u001b[39m_to_draw \u001b[39m=\u001b[39m []\n",
      "File \u001b[1;32mc:\\Users\\loicb\\AppData\\Local\\Programs\\Python\\Python311\\Lib\\site-packages\\IPython\\core\\display_functions.py:298\u001b[0m, in \u001b[0;36mdisplay\u001b[1;34m(include, exclude, metadata, transient, display_id, raw, clear, *objs, **kwargs)\u001b[0m\n\u001b[0;32m    296\u001b[0m     publish_display_data(data\u001b[39m=\u001b[39mobj, metadata\u001b[39m=\u001b[39mmetadata, \u001b[39m*\u001b[39m\u001b[39m*\u001b[39mkwargs)\n\u001b[0;32m    297\u001b[0m \u001b[39melse\u001b[39;00m:\n\u001b[1;32m--> 298\u001b[0m     format_dict, md_dict \u001b[39m=\u001b[39m \u001b[39mformat\u001b[39;49m(obj, include\u001b[39m=\u001b[39;49minclude, exclude\u001b[39m=\u001b[39;49mexclude)\n\u001b[0;32m    299\u001b[0m     \u001b[39mif\u001b[39;00m \u001b[39mnot\u001b[39;00m format_dict:\n\u001b[0;32m    300\u001b[0m         \u001b[39m# nothing to display (e.g. _ipython_display_ took over)\u001b[39;00m\n\u001b[0;32m    301\u001b[0m         \u001b[39mcontinue\u001b[39;00m\n",
      "File \u001b[1;32mc:\\Users\\loicb\\AppData\\Local\\Programs\\Python\\Python311\\Lib\\site-packages\\IPython\\core\\formatters.py:177\u001b[0m, in \u001b[0;36mDisplayFormatter.format\u001b[1;34m(self, obj, include, exclude)\u001b[0m\n\u001b[0;32m    175\u001b[0m md \u001b[39m=\u001b[39m \u001b[39mNone\u001b[39;00m\n\u001b[0;32m    176\u001b[0m \u001b[39mtry\u001b[39;00m:\n\u001b[1;32m--> 177\u001b[0m     data \u001b[39m=\u001b[39m formatter(obj)\n\u001b[0;32m    178\u001b[0m \u001b[39mexcept\u001b[39;00m:\n\u001b[0;32m    179\u001b[0m     \u001b[39m# FIXME: log the exception\u001b[39;00m\n\u001b[0;32m    180\u001b[0m     \u001b[39mraise\u001b[39;00m\n",
      "File \u001b[1;32mc:\\Users\\loicb\\AppData\\Local\\Programs\\Python\\Python311\\Lib\\site-packages\\decorator.py:232\u001b[0m, in \u001b[0;36mdecorate.<locals>.fun\u001b[1;34m(*args, **kw)\u001b[0m\n\u001b[0;32m    230\u001b[0m \u001b[39mif\u001b[39;00m \u001b[39mnot\u001b[39;00m kwsyntax:\n\u001b[0;32m    231\u001b[0m     args, kw \u001b[39m=\u001b[39m fix(args, kw, sig)\n\u001b[1;32m--> 232\u001b[0m \u001b[39mreturn\u001b[39;00m caller(func, \u001b[39m*\u001b[39;49m(extras \u001b[39m+\u001b[39;49m args), \u001b[39m*\u001b[39;49m\u001b[39m*\u001b[39;49mkw)\n",
      "File \u001b[1;32mc:\\Users\\loicb\\AppData\\Local\\Programs\\Python\\Python311\\Lib\\site-packages\\IPython\\core\\formatters.py:221\u001b[0m, in \u001b[0;36mcatch_format_error\u001b[1;34m(method, self, *args, **kwargs)\u001b[0m\n\u001b[0;32m    219\u001b[0m \u001b[39m\u001b[39m\u001b[39m\"\"\"show traceback on failed format call\"\"\"\u001b[39;00m\n\u001b[0;32m    220\u001b[0m \u001b[39mtry\u001b[39;00m:\n\u001b[1;32m--> 221\u001b[0m     r \u001b[39m=\u001b[39m method(\u001b[39mself\u001b[39;49m, \u001b[39m*\u001b[39;49margs, \u001b[39m*\u001b[39;49m\u001b[39m*\u001b[39;49mkwargs)\n\u001b[0;32m    222\u001b[0m \u001b[39mexcept\u001b[39;00m \u001b[39mNotImplementedError\u001b[39;00m:\n\u001b[0;32m    223\u001b[0m     \u001b[39m# don't warn on NotImplementedErrors\u001b[39;00m\n\u001b[0;32m    224\u001b[0m     \u001b[39mreturn\u001b[39;00m \u001b[39mself\u001b[39m\u001b[39m.\u001b[39m_check_return(\u001b[39mNone\u001b[39;00m, args[\u001b[39m0\u001b[39m])\n",
      "File \u001b[1;32mc:\\Users\\loicb\\AppData\\Local\\Programs\\Python\\Python311\\Lib\\site-packages\\IPython\\core\\formatters.py:338\u001b[0m, in \u001b[0;36mBaseFormatter.__call__\u001b[1;34m(self, obj)\u001b[0m\n\u001b[0;32m    336\u001b[0m     \u001b[39mpass\u001b[39;00m\n\u001b[0;32m    337\u001b[0m \u001b[39melse\u001b[39;00m:\n\u001b[1;32m--> 338\u001b[0m     \u001b[39mreturn\u001b[39;00m printer(obj)\n\u001b[0;32m    339\u001b[0m \u001b[39m# Finally look for special method names\u001b[39;00m\n\u001b[0;32m    340\u001b[0m method \u001b[39m=\u001b[39m get_real_method(obj, \u001b[39mself\u001b[39m\u001b[39m.\u001b[39mprint_method)\n",
      "File \u001b[1;32mc:\\Users\\loicb\\AppData\\Local\\Programs\\Python\\Python311\\Lib\\site-packages\\IPython\\core\\pylabtools.py:152\u001b[0m, in \u001b[0;36mprint_figure\u001b[1;34m(fig, fmt, bbox_inches, base64, **kwargs)\u001b[0m\n\u001b[0;32m    149\u001b[0m     \u001b[39mfrom\u001b[39;00m \u001b[39mmatplotlib\u001b[39;00m\u001b[39m.\u001b[39;00m\u001b[39mbackend_bases\u001b[39;00m \u001b[39mimport\u001b[39;00m FigureCanvasBase\n\u001b[0;32m    150\u001b[0m     FigureCanvasBase(fig)\n\u001b[1;32m--> 152\u001b[0m fig\u001b[39m.\u001b[39;49mcanvas\u001b[39m.\u001b[39;49mprint_figure(bytes_io, \u001b[39m*\u001b[39;49m\u001b[39m*\u001b[39;49mkw)\n\u001b[0;32m    153\u001b[0m data \u001b[39m=\u001b[39m bytes_io\u001b[39m.\u001b[39mgetvalue()\n\u001b[0;32m    154\u001b[0m \u001b[39mif\u001b[39;00m fmt \u001b[39m==\u001b[39m \u001b[39m'\u001b[39m\u001b[39msvg\u001b[39m\u001b[39m'\u001b[39m:\n",
      "File \u001b[1;32mc:\\Users\\loicb\\AppData\\Local\\Programs\\Python\\Python311\\Lib\\site-packages\\matplotlib\\backend_bases.py:2342\u001b[0m, in \u001b[0;36mFigureCanvasBase.print_figure\u001b[1;34m(self, filename, dpi, facecolor, edgecolor, orientation, format, bbox_inches, pad_inches, bbox_extra_artists, backend, **kwargs)\u001b[0m\n\u001b[0;32m   2336\u001b[0m     renderer \u001b[39m=\u001b[39m _get_renderer(\n\u001b[0;32m   2337\u001b[0m         \u001b[39mself\u001b[39m\u001b[39m.\u001b[39mfigure,\n\u001b[0;32m   2338\u001b[0m         functools\u001b[39m.\u001b[39mpartial(\n\u001b[0;32m   2339\u001b[0m             print_method, orientation\u001b[39m=\u001b[39morientation)\n\u001b[0;32m   2340\u001b[0m     )\n\u001b[0;32m   2341\u001b[0m     \u001b[39mwith\u001b[39;00m \u001b[39mgetattr\u001b[39m(renderer, \u001b[39m\"\u001b[39m\u001b[39m_draw_disabled\u001b[39m\u001b[39m\"\u001b[39m, nullcontext)():\n\u001b[1;32m-> 2342\u001b[0m         \u001b[39mself\u001b[39;49m\u001b[39m.\u001b[39;49mfigure\u001b[39m.\u001b[39;49mdraw(renderer)\n\u001b[0;32m   2344\u001b[0m \u001b[39mif\u001b[39;00m bbox_inches:\n\u001b[0;32m   2345\u001b[0m     \u001b[39mif\u001b[39;00m bbox_inches \u001b[39m==\u001b[39m \u001b[39m\"\u001b[39m\u001b[39mtight\u001b[39m\u001b[39m\"\u001b[39m:\n",
      "File \u001b[1;32mc:\\Users\\loicb\\AppData\\Local\\Programs\\Python\\Python311\\Lib\\site-packages\\matplotlib\\artist.py:95\u001b[0m, in \u001b[0;36m_finalize_rasterization.<locals>.draw_wrapper\u001b[1;34m(artist, renderer, *args, **kwargs)\u001b[0m\n\u001b[0;32m     93\u001b[0m \u001b[39m@wraps\u001b[39m(draw)\n\u001b[0;32m     94\u001b[0m \u001b[39mdef\u001b[39;00m \u001b[39mdraw_wrapper\u001b[39m(artist, renderer, \u001b[39m*\u001b[39margs, \u001b[39m*\u001b[39m\u001b[39m*\u001b[39mkwargs):\n\u001b[1;32m---> 95\u001b[0m     result \u001b[39m=\u001b[39m draw(artist, renderer, \u001b[39m*\u001b[39;49margs, \u001b[39m*\u001b[39;49m\u001b[39m*\u001b[39;49mkwargs)\n\u001b[0;32m     96\u001b[0m     \u001b[39mif\u001b[39;00m renderer\u001b[39m.\u001b[39m_rasterizing:\n\u001b[0;32m     97\u001b[0m         renderer\u001b[39m.\u001b[39mstop_rasterizing()\n",
      "File \u001b[1;32mc:\\Users\\loicb\\AppData\\Local\\Programs\\Python\\Python311\\Lib\\site-packages\\matplotlib\\artist.py:72\u001b[0m, in \u001b[0;36mallow_rasterization.<locals>.draw_wrapper\u001b[1;34m(artist, renderer)\u001b[0m\n\u001b[0;32m     69\u001b[0m     \u001b[39mif\u001b[39;00m artist\u001b[39m.\u001b[39mget_agg_filter() \u001b[39mis\u001b[39;00m \u001b[39mnot\u001b[39;00m \u001b[39mNone\u001b[39;00m:\n\u001b[0;32m     70\u001b[0m         renderer\u001b[39m.\u001b[39mstart_filter()\n\u001b[1;32m---> 72\u001b[0m     \u001b[39mreturn\u001b[39;00m draw(artist, renderer)\n\u001b[0;32m     73\u001b[0m \u001b[39mfinally\u001b[39;00m:\n\u001b[0;32m     74\u001b[0m     \u001b[39mif\u001b[39;00m artist\u001b[39m.\u001b[39mget_agg_filter() \u001b[39mis\u001b[39;00m \u001b[39mnot\u001b[39;00m \u001b[39mNone\u001b[39;00m:\n",
      "File \u001b[1;32mc:\\Users\\loicb\\AppData\\Local\\Programs\\Python\\Python311\\Lib\\site-packages\\matplotlib\\figure.py:3140\u001b[0m, in \u001b[0;36mFigure.draw\u001b[1;34m(self, renderer)\u001b[0m\n\u001b[0;32m   3137\u001b[0m         \u001b[39m# ValueError can occur when resizing a window.\u001b[39;00m\n\u001b[0;32m   3139\u001b[0m \u001b[39mself\u001b[39m\u001b[39m.\u001b[39mpatch\u001b[39m.\u001b[39mdraw(renderer)\n\u001b[1;32m-> 3140\u001b[0m mimage\u001b[39m.\u001b[39;49m_draw_list_compositing_images(\n\u001b[0;32m   3141\u001b[0m     renderer, \u001b[39mself\u001b[39;49m, artists, \u001b[39mself\u001b[39;49m\u001b[39m.\u001b[39;49msuppressComposite)\n\u001b[0;32m   3143\u001b[0m \u001b[39mfor\u001b[39;00m sfig \u001b[39min\u001b[39;00m \u001b[39mself\u001b[39m\u001b[39m.\u001b[39msubfigs:\n\u001b[0;32m   3144\u001b[0m     sfig\u001b[39m.\u001b[39mdraw(renderer)\n",
      "File \u001b[1;32mc:\\Users\\loicb\\AppData\\Local\\Programs\\Python\\Python311\\Lib\\site-packages\\matplotlib\\image.py:131\u001b[0m, in \u001b[0;36m_draw_list_compositing_images\u001b[1;34m(renderer, parent, artists, suppress_composite)\u001b[0m\n\u001b[0;32m    129\u001b[0m \u001b[39mif\u001b[39;00m not_composite \u001b[39mor\u001b[39;00m \u001b[39mnot\u001b[39;00m has_images:\n\u001b[0;32m    130\u001b[0m     \u001b[39mfor\u001b[39;00m a \u001b[39min\u001b[39;00m artists:\n\u001b[1;32m--> 131\u001b[0m         a\u001b[39m.\u001b[39;49mdraw(renderer)\n\u001b[0;32m    132\u001b[0m \u001b[39melse\u001b[39;00m:\n\u001b[0;32m    133\u001b[0m     \u001b[39m# Composite any adjacent images together\u001b[39;00m\n\u001b[0;32m    134\u001b[0m     image_group \u001b[39m=\u001b[39m []\n",
      "File \u001b[1;32mc:\\Users\\loicb\\AppData\\Local\\Programs\\Python\\Python311\\Lib\\site-packages\\matplotlib\\artist.py:72\u001b[0m, in \u001b[0;36mallow_rasterization.<locals>.draw_wrapper\u001b[1;34m(artist, renderer)\u001b[0m\n\u001b[0;32m     69\u001b[0m     \u001b[39mif\u001b[39;00m artist\u001b[39m.\u001b[39mget_agg_filter() \u001b[39mis\u001b[39;00m \u001b[39mnot\u001b[39;00m \u001b[39mNone\u001b[39;00m:\n\u001b[0;32m     70\u001b[0m         renderer\u001b[39m.\u001b[39mstart_filter()\n\u001b[1;32m---> 72\u001b[0m     \u001b[39mreturn\u001b[39;00m draw(artist, renderer)\n\u001b[0;32m     73\u001b[0m \u001b[39mfinally\u001b[39;00m:\n\u001b[0;32m     74\u001b[0m     \u001b[39mif\u001b[39;00m artist\u001b[39m.\u001b[39mget_agg_filter() \u001b[39mis\u001b[39;00m \u001b[39mnot\u001b[39;00m \u001b[39mNone\u001b[39;00m:\n",
      "File \u001b[1;32mc:\\Users\\loicb\\AppData\\Local\\Programs\\Python\\Python311\\Lib\\site-packages\\matplotlib\\axes\\_base.py:3064\u001b[0m, in \u001b[0;36m_AxesBase.draw\u001b[1;34m(self, renderer)\u001b[0m\n\u001b[0;32m   3061\u001b[0m \u001b[39mif\u001b[39;00m artists_rasterized:\n\u001b[0;32m   3062\u001b[0m     _draw_rasterized(\u001b[39mself\u001b[39m\u001b[39m.\u001b[39mfigure, artists_rasterized, renderer)\n\u001b[1;32m-> 3064\u001b[0m mimage\u001b[39m.\u001b[39;49m_draw_list_compositing_images(\n\u001b[0;32m   3065\u001b[0m     renderer, \u001b[39mself\u001b[39;49m, artists, \u001b[39mself\u001b[39;49m\u001b[39m.\u001b[39;49mfigure\u001b[39m.\u001b[39;49msuppressComposite)\n\u001b[0;32m   3067\u001b[0m renderer\u001b[39m.\u001b[39mclose_group(\u001b[39m'\u001b[39m\u001b[39maxes\u001b[39m\u001b[39m'\u001b[39m)\n\u001b[0;32m   3068\u001b[0m \u001b[39mself\u001b[39m\u001b[39m.\u001b[39mstale \u001b[39m=\u001b[39m \u001b[39mFalse\u001b[39;00m\n",
      "File \u001b[1;32mc:\\Users\\loicb\\AppData\\Local\\Programs\\Python\\Python311\\Lib\\site-packages\\matplotlib\\image.py:131\u001b[0m, in \u001b[0;36m_draw_list_compositing_images\u001b[1;34m(renderer, parent, artists, suppress_composite)\u001b[0m\n\u001b[0;32m    129\u001b[0m \u001b[39mif\u001b[39;00m not_composite \u001b[39mor\u001b[39;00m \u001b[39mnot\u001b[39;00m has_images:\n\u001b[0;32m    130\u001b[0m     \u001b[39mfor\u001b[39;00m a \u001b[39min\u001b[39;00m artists:\n\u001b[1;32m--> 131\u001b[0m         a\u001b[39m.\u001b[39;49mdraw(renderer)\n\u001b[0;32m    132\u001b[0m \u001b[39melse\u001b[39;00m:\n\u001b[0;32m    133\u001b[0m     \u001b[39m# Composite any adjacent images together\u001b[39;00m\n\u001b[0;32m    134\u001b[0m     image_group \u001b[39m=\u001b[39m []\n",
      "File \u001b[1;32mc:\\Users\\loicb\\AppData\\Local\\Programs\\Python\\Python311\\Lib\\site-packages\\matplotlib\\artist.py:72\u001b[0m, in \u001b[0;36mallow_rasterization.<locals>.draw_wrapper\u001b[1;34m(artist, renderer)\u001b[0m\n\u001b[0;32m     69\u001b[0m     \u001b[39mif\u001b[39;00m artist\u001b[39m.\u001b[39mget_agg_filter() \u001b[39mis\u001b[39;00m \u001b[39mnot\u001b[39;00m \u001b[39mNone\u001b[39;00m:\n\u001b[0;32m     70\u001b[0m         renderer\u001b[39m.\u001b[39mstart_filter()\n\u001b[1;32m---> 72\u001b[0m     \u001b[39mreturn\u001b[39;00m draw(artist, renderer)\n\u001b[0;32m     73\u001b[0m \u001b[39mfinally\u001b[39;00m:\n\u001b[0;32m     74\u001b[0m     \u001b[39mif\u001b[39;00m artist\u001b[39m.\u001b[39mget_agg_filter() \u001b[39mis\u001b[39;00m \u001b[39mnot\u001b[39;00m \u001b[39mNone\u001b[39;00m:\n",
      "File \u001b[1;32mc:\\Users\\loicb\\AppData\\Local\\Programs\\Python\\Python311\\Lib\\site-packages\\matplotlib\\axis.py:1380\u001b[0m, in \u001b[0;36mAxis.draw\u001b[1;34m(self, renderer, *args, **kwargs)\u001b[0m\n\u001b[0;32m   1377\u001b[0m tlb1, tlb2 \u001b[39m=\u001b[39m \u001b[39mself\u001b[39m\u001b[39m.\u001b[39m_get_ticklabel_bboxes(ticks_to_draw, renderer)\n\u001b[0;32m   1379\u001b[0m \u001b[39mfor\u001b[39;00m tick \u001b[39min\u001b[39;00m ticks_to_draw:\n\u001b[1;32m-> 1380\u001b[0m     tick\u001b[39m.\u001b[39;49mdraw(renderer)\n\u001b[0;32m   1382\u001b[0m \u001b[39m# Shift label away from axes to avoid overlapping ticklabels.\u001b[39;00m\n\u001b[0;32m   1383\u001b[0m \u001b[39mself\u001b[39m\u001b[39m.\u001b[39m_update_label_position(renderer)\n",
      "File \u001b[1;32mc:\\Users\\loicb\\AppData\\Local\\Programs\\Python\\Python311\\Lib\\site-packages\\matplotlib\\artist.py:72\u001b[0m, in \u001b[0;36mallow_rasterization.<locals>.draw_wrapper\u001b[1;34m(artist, renderer)\u001b[0m\n\u001b[0;32m     69\u001b[0m     \u001b[39mif\u001b[39;00m artist\u001b[39m.\u001b[39mget_agg_filter() \u001b[39mis\u001b[39;00m \u001b[39mnot\u001b[39;00m \u001b[39mNone\u001b[39;00m:\n\u001b[0;32m     70\u001b[0m         renderer\u001b[39m.\u001b[39mstart_filter()\n\u001b[1;32m---> 72\u001b[0m     \u001b[39mreturn\u001b[39;00m draw(artist, renderer)\n\u001b[0;32m     73\u001b[0m \u001b[39mfinally\u001b[39;00m:\n\u001b[0;32m     74\u001b[0m     \u001b[39mif\u001b[39;00m artist\u001b[39m.\u001b[39mget_agg_filter() \u001b[39mis\u001b[39;00m \u001b[39mnot\u001b[39;00m \u001b[39mNone\u001b[39;00m:\n",
      "File \u001b[1;32mc:\\Users\\loicb\\AppData\\Local\\Programs\\Python\\Python311\\Lib\\site-packages\\matplotlib\\axis.py:301\u001b[0m, in \u001b[0;36mTick.draw\u001b[1;34m(self, renderer)\u001b[0m\n\u001b[0;32m    298\u001b[0m renderer\u001b[39m.\u001b[39mopen_group(\u001b[39mself\u001b[39m\u001b[39m.\u001b[39m\u001b[39m__name__\u001b[39m, gid\u001b[39m=\u001b[39m\u001b[39mself\u001b[39m\u001b[39m.\u001b[39mget_gid())\n\u001b[0;32m    299\u001b[0m \u001b[39mfor\u001b[39;00m artist \u001b[39min\u001b[39;00m [\u001b[39mself\u001b[39m\u001b[39m.\u001b[39mgridline, \u001b[39mself\u001b[39m\u001b[39m.\u001b[39mtick1line, \u001b[39mself\u001b[39m\u001b[39m.\u001b[39mtick2line,\n\u001b[0;32m    300\u001b[0m                \u001b[39mself\u001b[39m\u001b[39m.\u001b[39mlabel1, \u001b[39mself\u001b[39m\u001b[39m.\u001b[39mlabel2]:\n\u001b[1;32m--> 301\u001b[0m     artist\u001b[39m.\u001b[39;49mdraw(renderer)\n\u001b[0;32m    302\u001b[0m renderer\u001b[39m.\u001b[39mclose_group(\u001b[39mself\u001b[39m\u001b[39m.\u001b[39m\u001b[39m__name__\u001b[39m)\n\u001b[0;32m    303\u001b[0m \u001b[39mself\u001b[39m\u001b[39m.\u001b[39mstale \u001b[39m=\u001b[39m \u001b[39mFalse\u001b[39;00m\n",
      "File \u001b[1;32mc:\\Users\\loicb\\AppData\\Local\\Programs\\Python\\Python311\\Lib\\site-packages\\matplotlib\\artist.py:72\u001b[0m, in \u001b[0;36mallow_rasterization.<locals>.draw_wrapper\u001b[1;34m(artist, renderer)\u001b[0m\n\u001b[0;32m     69\u001b[0m     \u001b[39mif\u001b[39;00m artist\u001b[39m.\u001b[39mget_agg_filter() \u001b[39mis\u001b[39;00m \u001b[39mnot\u001b[39;00m \u001b[39mNone\u001b[39;00m:\n\u001b[0;32m     70\u001b[0m         renderer\u001b[39m.\u001b[39mstart_filter()\n\u001b[1;32m---> 72\u001b[0m     \u001b[39mreturn\u001b[39;00m draw(artist, renderer)\n\u001b[0;32m     73\u001b[0m \u001b[39mfinally\u001b[39;00m:\n\u001b[0;32m     74\u001b[0m     \u001b[39mif\u001b[39;00m artist\u001b[39m.\u001b[39mget_agg_filter() \u001b[39mis\u001b[39;00m \u001b[39mnot\u001b[39;00m \u001b[39mNone\u001b[39;00m:\n",
      "File \u001b[1;32mc:\\Users\\loicb\\AppData\\Local\\Programs\\Python\\Python311\\Lib\\site-packages\\matplotlib\\lines.py:737\u001b[0m, in \u001b[0;36mLine2D.draw\u001b[1;34m(self, renderer)\u001b[0m\n\u001b[0;32m    734\u001b[0m     \u001b[39mreturn\u001b[39;00m\n\u001b[0;32m    736\u001b[0m \u001b[39mif\u001b[39;00m \u001b[39mself\u001b[39m\u001b[39m.\u001b[39m_invalidy \u001b[39mor\u001b[39;00m \u001b[39mself\u001b[39m\u001b[39m.\u001b[39m_invalidx:\n\u001b[1;32m--> 737\u001b[0m     \u001b[39mself\u001b[39;49m\u001b[39m.\u001b[39;49mrecache()\n\u001b[0;32m    738\u001b[0m \u001b[39mself\u001b[39m\u001b[39m.\u001b[39mind_offset \u001b[39m=\u001b[39m \u001b[39m0\u001b[39m  \u001b[39m# Needed for contains() method.\u001b[39;00m\n\u001b[0;32m    739\u001b[0m \u001b[39mif\u001b[39;00m \u001b[39mself\u001b[39m\u001b[39m.\u001b[39m_subslice \u001b[39mand\u001b[39;00m \u001b[39mself\u001b[39m\u001b[39m.\u001b[39maxes:\n",
      "File \u001b[1;32mc:\\Users\\loicb\\AppData\\Local\\Programs\\Python\\Python311\\Lib\\site-packages\\matplotlib\\lines.py:666\u001b[0m, in \u001b[0;36mLine2D.recache\u001b[1;34m(self, always)\u001b[0m\n\u001b[0;32m    663\u001b[0m \u001b[39melse\u001b[39;00m:\n\u001b[0;32m    664\u001b[0m     y \u001b[39m=\u001b[39m \u001b[39mself\u001b[39m\u001b[39m.\u001b[39m_y\n\u001b[1;32m--> 666\u001b[0m \u001b[39mself\u001b[39m\u001b[39m.\u001b[39m_xy \u001b[39m=\u001b[39m np\u001b[39m.\u001b[39mcolumn_stack(np\u001b[39m.\u001b[39mbroadcast_arrays(x, y))\u001b[39m.\u001b[39mastype(\u001b[39mfloat\u001b[39m)\n\u001b[0;32m    667\u001b[0m \u001b[39mself\u001b[39m\u001b[39m.\u001b[39m_x, \u001b[39mself\u001b[39m\u001b[39m.\u001b[39m_y \u001b[39m=\u001b[39m \u001b[39mself\u001b[39m\u001b[39m.\u001b[39m_xy\u001b[39m.\u001b[39mT  \u001b[39m# views\u001b[39;00m\n\u001b[0;32m    669\u001b[0m \u001b[39mself\u001b[39m\u001b[39m.\u001b[39m_subslice \u001b[39m=\u001b[39m \u001b[39mFalse\u001b[39;00m\n",
      "\u001b[1;31mKeyboardInterrupt\u001b[0m: "
     ]
    }
   ],
   "source": [
    "reward_list = []\n",
    "penalities_list = []\n",
    "\n",
    "episode_number = 100000\n",
    "\n",
    "# Learning\n",
    "for i in range(episode_number):\n",
    "    # Reset the environment\n",
    "    state = env.reset()[0]\n",
    "\n",
    "    reward_count = 0\n",
    "    \n",
    "    # initialize fields\n",
    "    epochs = penalties = reward = 0\n",
    "    done = False\n",
    "    \n",
    "    # Start the episode process\n",
    "    while not done:\n",
    "        # Deciding which action to perform\n",
    "        if uniform(0, 1) < EPSILON:\n",
    "            action = env.action_space.sample() # Exploration\n",
    "        else:\n",
    "            action = np.argmax(q_table[state]) # Exploitation\n",
    "        \n",
    "        # Performing action inside the environment\n",
    "        next_state, reward, done, info, _ = env.step(action)\n",
    "        \n",
    "        # Getting usefull fields to calculate the new value of Q-Table\n",
    "        old_value = q_table[state, action]\n",
    "        next_max = np.max(q_table[next_state])\n",
    "        \n",
    "        # Calculate new value\n",
    "        new_value = (1 - ALPHA) * old_value + ALPHA * (reward + GAMMA * next_max)\n",
    "        \n",
    "        q_table[state, action] = new_value\n",
    "        \n",
    "        # Getting stats when the agent performed illegal action (pickup or dropoff)\n",
    "        penalties += 1 if reward == -10 else 0\n",
    "        \n",
    "        # Updating state\n",
    "        state = next_state\n",
    "\n",
    "        reward_count += reward\n",
    "        \n",
    "        epochs += 1\n",
    "    \n",
    "    # Display the number of episode\n",
    "    if i % 1000 == 0:\n",
    "        clear_output(wait=True)\n",
    "        penalities_list.append(penalties)\n",
    "        reward_list.append(reward_count)\n",
    "        print('Episode: {}, reward: {}, wrong dropouts: {}\\n'.format(i, reward_count, penalties))\n",
    "\n",
    "        fig, (axs1,axs2) = plt.subplots(1,2, figsize=(12, 6)) # create in 1 line 2 plots\n",
    "        \n",
    "        axs1.plot(reward_list)\n",
    "        axs1.set_xlabel('episode*1000')\n",
    "        axs1.set_ylabel('reward')\n",
    "        axs1.grid(True)\n",
    "        \n",
    "        axs2.plot(penalities_list)\n",
    "        axs2.set_xlabel('episode*1000')\n",
    "        axs2.set_ylabel('wrong dropouts')\n",
    "        axs2.grid(True)\n",
    "        \n",
    "        plt.show()\n",
    "        sleep(0.1)\n",
    "\n",
    "print(\"Finished\")"
   ]
  },
  {
   "cell_type": "code",
   "execution_count": 9,
   "metadata": {},
   "outputs": [
    {
     "data": {
      "text/plain": [
       "array([[  0.        ,   0.        ,   0.        ,   0.        ,\n",
       "          0.        ,   0.        ],\n",
       "       [ -2.4183706 ,  -2.3639511 ,  -2.41837062,  -2.36395109,\n",
       "         -2.27325184, -11.36393207],\n",
       "       [ -1.87014399,  -1.45024   ,  -1.870144  ,  -1.45024003,\n",
       "         -0.7504    , -10.45023981],\n",
       "       ...,\n",
       "       [ -1.10895034,   0.41599995,  -1.02411286,  -1.15270773,\n",
       "         -1.96      ,  -5.19012549],\n",
       "       [ -2.14625018,  -2.12207667,  -2.14627998,  -2.12207695,\n",
       "         -5.07090015,  -6.29348347],\n",
       "       [  3.37134783,   1.37178285,   3.32635135,  11.        ,\n",
       "         -2.85982595,  -1.82536   ]])"
      ]
     },
     "execution_count": 9,
     "metadata": {},
     "output_type": "execute_result"
    }
   ],
   "source": [
    "# Examining the q_table\n",
    "q_table"
   ]
  },
  {
   "attachments": {},
   "cell_type": "markdown",
   "metadata": {},
   "source": [
    "## Evaluation"
   ]
  },
  {
   "attachments": {},
   "cell_type": "markdown",
   "metadata": {},
   "source": [
    "Evaluating the agent after the Q-Learning with 100 episodes.  \n",
    "\n",
    "Metrics:\n",
    "- **total_epochs**: number of action performed by the agent during an episode\n",
    "- **total_penalties**: number of illegal actions performed by the agent during an episode (pickup / dropoff)"
   ]
  },
  {
   "cell_type": "code",
   "execution_count": 10,
   "metadata": {},
   "outputs": [],
   "source": [
    "# Initialize fields\n",
    "total_epochs = total_penalties = 0\n",
    "EPISODES = 100"
   ]
  },
  {
   "cell_type": "code",
   "execution_count": 12,
   "metadata": {},
   "outputs": [],
   "source": [
    "def print_frames(frames, sleep_time, episodes, random):\n",
    "    if random:\n",
    "        random_number_list = []\n",
    "        for e in range(episodes):\n",
    "            random_number = randint(1, EPISODES)\n",
    "            random_number_list.append(random_number)\n",
    "        \n",
    "    for i, frame in enumerate(frames, start=1):\n",
    "        if random and frame[\"episode\"] in random_number_list:\n",
    "            clear_output(wait=True)\n",
    "            \n",
    "            print(f\"Episode: {frame['episode']}\")\n",
    "            \n",
    "            print(frame['frame'])\n",
    "            \n",
    "            print(f\"Timestep: {i}\")\n",
    "            print(f\"State: {frame['state']}\")\n",
    "            print(f\"Action: {frame['action']}\")\n",
    "            print(f\"Reward: {frame['reward']}\")\n",
    "            \n",
    "            sleep(sleep_time)\n",
    "        elif not random and frame[\"episode\"] < episodes: \n",
    "            clear_output(wait=True)\n",
    "            \n",
    "            print(f\"Episode: {frame['episode']}\")\n",
    "            \n",
    "            print(frame['frame'])\n",
    "            \n",
    "            print(f\"Timestep: {i}\")\n",
    "            print(f\"State: {frame['state']}\")\n",
    "            print(f\"Action: {frame['action']}\")\n",
    "            print(f\"Reward: {frame['reward']}\")\n",
    "            \n",
    "            sleep(sleep_time)"
   ]
  },
  {
   "cell_type": "code",
   "execution_count": 13,
   "metadata": {},
   "outputs": [],
   "source": [
    "frames = []\n",
    "\n",
    "for i in range(EPISODES):\n",
    "    # Reset the environment\n",
    "    state = env.reset()[0]\n",
    "    \n",
    "    # Initialize fields\n",
    "    epochs = penalties = reward = 0\n",
    "    done = False\n",
    "    \n",
    "    # Start the episode process\n",
    "    while not done:\n",
    "        # Only Exploitation during the evaluation phase\n",
    "        action = np.argmax(q_table[state])\n",
    "        \n",
    "        # Performing action inside the environment\n",
    "        state, reward, done, info, _ = env.step(action)\n",
    "        \n",
    "        # Put each rendered frame into a dict for animation\n",
    "        frames.append({\n",
    "            \"episode\": i,\n",
    "            \"frame\": env.render(),\n",
    "            \"state\": state,\n",
    "            \"action\": action,\n",
    "            \"reward\": reward\n",
    "        })\n",
    "        \n",
    "        # Getting stats when the agent performed illegal action (pickup or dropoff)\n",
    "        penalties += 1 if reward == -10 else 0\n",
    "        \n",
    "        epochs += 1\n",
    "    \n",
    "    total_penalties += penalties\n",
    "    total_epochs += epochs"
   ]
  },
  {
   "cell_type": "code",
   "execution_count": 14,
   "metadata": {},
   "outputs": [
    {
     "name": "stdout",
     "output_type": "stream",
     "text": [
      "Results (100 episodes)\n",
      "Average timesteps: 13.14\n",
      "Average penalties: 0.0\n"
     ]
    }
   ],
   "source": [
    "# Results\n",
    "print(f\"Results ({EPISODES} episodes)\")\n",
    "print(f\"Average timesteps: {total_epochs / EPISODES}\")\n",
    "print(f\"Average penalties: {total_penalties / EPISODES}\")"
   ]
  },
  {
   "attachments": {},
   "cell_type": "markdown",
   "metadata": {},
   "source": [
    "## Visualization"
   ]
  },
  {
   "cell_type": "code",
   "execution_count": 17,
   "metadata": {},
   "outputs": [
    {
     "name": "stdout",
     "output_type": "stream",
     "text": [
      "Episode: 96\n",
      "+---------+\n",
      "|R: | : :G|\n",
      "| : | : : |\n",
      "| : : : : |\n",
      "| | : | : |\n",
      "|Y| : |\u001b[35m\u001b[34;1m\u001b[43mB\u001b[0m\u001b[0m\u001b[0m: |\n",
      "+---------+\n",
      "  (Dropoff)\n",
      "\n",
      "Timestep: 1274\n",
      "State: 475\n",
      "Action: 5\n",
      "Reward: 20\n"
     ]
    }
   ],
   "source": [
    "print_frames(frames, sleep_time=0.1, episodes=5, random=True)"
   ]
  }
 ],
 "metadata": {
  "kernelspec": {
   "display_name": "Q-Learning",
   "language": "python",
   "name": "python3"
  },
  "language_info": {
   "codemirror_mode": {
    "name": "ipython",
    "version": 3
   },
   "file_extension": ".py",
   "mimetype": "text/x-python",
   "name": "python",
   "nbconvert_exporter": "python",
   "pygments_lexer": "ipython3",
   "version": "3.11.3"
  },
  "orig_nbformat": 4
 },
 "nbformat": 4,
 "nbformat_minor": 2
}
